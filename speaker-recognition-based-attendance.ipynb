{
 "cells": [
  {
   "cell_type": "code",
   "execution_count": 1,
   "id": "961e224d",
   "metadata": {
    "_cell_guid": "b1076dfc-b9ad-4769-8c92-a6c4dae69d19",
    "_uuid": "8f2839f25d086af736a60e9eeb907d3b93b6e0e5",
    "execution": {
     "iopub.execute_input": "2023-07-17T07:09:52.094884Z",
     "iopub.status.busy": "2023-07-17T07:09:52.093272Z",
     "iopub.status.idle": "2023-07-17T07:09:56.396601Z",
     "shell.execute_reply": "2023-07-17T07:09:56.395875Z",
     "shell.execute_reply.started": "2023-07-15T05:54:39.733125Z"
    },
    "papermill": {
     "duration": 4.353112,
     "end_time": "2023-07-17T07:09:56.396785",
     "exception": false,
     "start_time": "2023-07-17T07:09:52.043673",
     "status": "completed"
    },
    "tags": []
   },
   "outputs": [],
   "source": [
    "import tensorflow as tf\n",
    "import os\n",
    "from os.path import isfile, join\n",
    "import numpy as np\n",
    "import shutil\n",
    "from tensorflow import keras\n",
    "from pathlib import Path\n",
    "from IPython.display import display, Audio\n",
    "import subprocess"
   ]
  },
  {
   "cell_type": "markdown",
   "id": "8b7ab0b2",
   "metadata": {
    "papermill": {
     "duration": 0.044261,
     "end_time": "2023-07-17T07:09:56.486699",
     "exception": false,
     "start_time": "2023-07-17T07:09:56.442438",
     "status": "completed"
    },
    "tags": []
   },
   "source": [
    "Copy dataset to arrange audio and noise in different folders"
   ]
  },
  {
   "cell_type": "code",
   "execution_count": 2,
   "id": "7454c7f1",
   "metadata": {
    "execution": {
     "iopub.execute_input": "2023-07-17T07:09:56.582157Z",
     "iopub.status.busy": "2023-07-17T07:09:56.579640Z",
     "iopub.status.idle": "2023-07-17T07:11:03.887213Z",
     "shell.execute_reply": "2023-07-17T07:11:03.885820Z",
     "shell.execute_reply.started": "2023-07-15T05:54:45.029288Z"
    },
    "papermill": {
     "duration": 67.355074,
     "end_time": "2023-07-17T07:11:03.887383",
     "exception": false,
     "start_time": "2023-07-17T07:09:56.532309",
     "status": "completed"
    },
    "tags": []
   },
   "outputs": [],
   "source": [
    "!cp -r \"../input/speaker-recognition-dataset\" ./"
   ]
  },
  {
   "cell_type": "markdown",
   "id": "b091985f",
   "metadata": {
    "papermill": {
     "duration": 0.043725,
     "end_time": "2023-07-17T07:11:03.974749",
     "exception": false,
     "start_time": "2023-07-17T07:11:03.931024",
     "status": "completed"
    },
    "tags": []
   },
   "source": [
    "Get the data directories"
   ]
  },
  {
   "cell_type": "code",
   "execution_count": 3,
   "id": "88fd1a2a",
   "metadata": {
    "execution": {
     "iopub.execute_input": "2023-07-17T07:11:04.066955Z",
     "iopub.status.busy": "2023-07-17T07:11:04.066132Z",
     "iopub.status.idle": "2023-07-17T07:11:04.068327Z",
     "shell.execute_reply": "2023-07-17T07:11:04.068771Z",
     "shell.execute_reply.started": "2023-07-15T05:55:26.392612Z"
    },
    "papermill": {
     "duration": 0.050874,
     "end_time": "2023-07-17T07:11:04.068918",
     "exception": false,
     "start_time": "2023-07-17T07:11:04.018044",
     "status": "completed"
    },
    "tags": []
   },
   "outputs": [],
   "source": [
    "\n",
    "data_directory = \"./speaker-recognition-dataset/16000_pcm_speeches\"\n",
    "audio_folder = \"audio\"\n",
    "noise_folder = \"noise\"\n",
    "\n",
    "audio_path = os.path.join(data_directory, audio_folder)\n",
    "noise_path = os.path.join(data_directory, noise_folder)"
   ]
  },
  {
   "cell_type": "code",
   "execution_count": 4,
   "id": "0c2d47eb",
   "metadata": {
    "execution": {
     "iopub.execute_input": "2023-07-17T07:11:04.162359Z",
     "iopub.status.busy": "2023-07-17T07:11:04.161653Z",
     "iopub.status.idle": "2023-07-17T07:11:04.165336Z",
     "shell.execute_reply": "2023-07-17T07:11:04.165827Z",
     "shell.execute_reply.started": "2023-07-15T05:55:26.403175Z"
    },
    "papermill": {
     "duration": 0.054331,
     "end_time": "2023-07-17T07:11:04.165974",
     "exception": false,
     "start_time": "2023-07-17T07:11:04.111643",
     "status": "completed"
    },
    "tags": []
   },
   "outputs": [
    {
     "data": {
      "text/plain": [
       "'./speaker-recognition-dataset/16000_pcm_speeches/audio'"
      ]
     },
     "execution_count": 4,
     "metadata": {},
     "output_type": "execute_result"
    }
   ],
   "source": [
    "audio_path"
   ]
  },
  {
   "cell_type": "markdown",
   "id": "459064ba",
   "metadata": {
    "papermill": {
     "duration": 0.043908,
     "end_time": "2023-07-17T07:11:04.253485",
     "exception": false,
     "start_time": "2023-07-17T07:11:04.209577",
     "status": "completed"
    },
    "tags": []
   },
   "source": [
    "set all the parameters for training and other purposes"
   ]
  },
  {
   "cell_type": "code",
   "execution_count": 5,
   "id": "2bd7b0c3",
   "metadata": {
    "execution": {
     "iopub.execute_input": "2023-07-17T07:11:04.345304Z",
     "iopub.status.busy": "2023-07-17T07:11:04.343673Z",
     "iopub.status.idle": "2023-07-17T07:11:04.348018Z",
     "shell.execute_reply": "2023-07-17T07:11:04.347407Z",
     "shell.execute_reply.started": "2023-07-15T05:55:26.422234Z"
    },
    "papermill": {
     "duration": 0.051263,
     "end_time": "2023-07-17T07:11:04.348145",
     "exception": false,
     "start_time": "2023-07-17T07:11:04.296882",
     "status": "completed"
    },
    "tags": []
   },
   "outputs": [],
   "source": [
    "valid_split = 0.1\n",
    "\n",
    "shuffle_seed = 43\n",
    "\n",
    "sample_rate = 16000\n",
    "\n",
    "scale = 0.5\n",
    "\n",
    "batch_size = 128\n",
    "\n",
    "epochs = 15"
   ]
  },
  {
   "cell_type": "markdown",
   "id": "8c96c307",
   "metadata": {
    "papermill": {
     "duration": 0.043562,
     "end_time": "2023-07-17T07:11:04.435350",
     "exception": false,
     "start_time": "2023-07-17T07:11:04.391788",
     "status": "completed"
    },
    "tags": []
   },
   "source": [
    "arrange audio and noise"
   ]
  },
  {
   "cell_type": "code",
   "execution_count": 6,
   "id": "864615ee",
   "metadata": {
    "execution": {
     "iopub.execute_input": "2023-07-17T07:11:04.530867Z",
     "iopub.status.busy": "2023-07-17T07:11:04.529957Z",
     "iopub.status.idle": "2023-07-17T07:11:04.812981Z",
     "shell.execute_reply": "2023-07-17T07:11:04.812411Z",
     "shell.execute_reply.started": "2023-07-15T05:55:26.431966Z"
    },
    "papermill": {
     "duration": 0.333361,
     "end_time": "2023-07-17T07:11:04.813134",
     "exception": false,
     "start_time": "2023-07-17T07:11:04.479773",
     "status": "completed"
    },
    "tags": []
   },
   "outputs": [],
   "source": [
    "for folder in os.listdir(data_directory):\n",
    "    if os.path.isdir(os.path.join(data_directory, folder)):\n",
    "        if folder in [audio_folder, noise_folder]:\n",
    "            \n",
    "            continue\n",
    "        elif folder in [\"other\", \"_background_noise_\"]:\n",
    "            \n",
    "            shutil.move(\n",
    "                os.path.join(data_directory, folder),\n",
    "                os.path.join(noise_path, folder),\n",
    "            )\n",
    "        else:\n",
    "            shutil.move(\n",
    "                os.path.join(data_directory, folder),\n",
    "                os.path.join(audio_path, folder),\n",
    "            )\n"
   ]
  },
  {
   "cell_type": "markdown",
   "id": "f1e3bbbd",
   "metadata": {
    "papermill": {
     "duration": 0.043392,
     "end_time": "2023-07-17T07:11:04.900900",
     "exception": false,
     "start_time": "2023-07-17T07:11:04.857508",
     "status": "completed"
    },
    "tags": []
   },
   "source": [
    "Get the list of all noise files"
   ]
  },
  {
   "cell_type": "code",
   "execution_count": 7,
   "id": "272149ea",
   "metadata": {
    "execution": {
     "iopub.execute_input": "2023-07-17T07:11:04.996269Z",
     "iopub.status.busy": "2023-07-17T07:11:04.995539Z",
     "iopub.status.idle": "2023-07-17T07:11:04.998140Z",
     "shell.execute_reply": "2023-07-17T07:11:04.998648Z",
     "shell.execute_reply.started": "2023-07-15T05:55:26.771540Z"
    },
    "papermill": {
     "duration": 0.053597,
     "end_time": "2023-07-17T07:11:04.998836",
     "exception": false,
     "start_time": "2023-07-17T07:11:04.945239",
     "status": "completed"
    },
    "tags": []
   },
   "outputs": [],
   "source": [
    "\n",
    "noise_paths = []\n",
    "for subdir in os.listdir(noise_path):\n",
    "    subdir_path = Path(noise_path) / subdir\n",
    "    if os.path.isdir(subdir_path):\n",
    "        noise_paths += [\n",
    "            os.path.join(subdir_path, filepath)\n",
    "            for filepath in os.listdir(subdir_path)\n",
    "            if filepath.endswith(\".wav\")\n",
    "        ]"
   ]
  },
  {
   "cell_type": "code",
   "execution_count": 8,
   "id": "234d5bd2",
   "metadata": {
    "execution": {
     "iopub.execute_input": "2023-07-17T07:11:05.091567Z",
     "iopub.status.busy": "2023-07-17T07:11:05.090890Z",
     "iopub.status.idle": "2023-07-17T07:11:05.093810Z",
     "shell.execute_reply": "2023-07-17T07:11:05.094287Z",
     "shell.execute_reply.started": "2023-07-15T05:55:26.781396Z"
    },
    "papermill": {
     "duration": 0.051854,
     "end_time": "2023-07-17T07:11:05.094424",
     "exception": false,
     "start_time": "2023-07-17T07:11:05.042570",
     "status": "completed"
    },
    "tags": []
   },
   "outputs": [
    {
     "data": {
      "text/plain": [
       "['speaker-recognition-dataset/16000_pcm_speeches/noise/other/pink_noise.wav',\n",
       " 'speaker-recognition-dataset/16000_pcm_speeches/noise/other/exercise_bike.wav',\n",
       " 'speaker-recognition-dataset/16000_pcm_speeches/noise/_background_noise_/doing_the_dishes.wav',\n",
       " 'speaker-recognition-dataset/16000_pcm_speeches/noise/_background_noise_/running_tap.wav',\n",
       " 'speaker-recognition-dataset/16000_pcm_speeches/noise/_background_noise_/dude_miaowing.wav',\n",
       " 'speaker-recognition-dataset/16000_pcm_speeches/noise/_background_noise_/10convert.com_Audience-Claps_daSG5fwdA7o.wav']"
      ]
     },
     "execution_count": 8,
     "metadata": {},
     "output_type": "execute_result"
    }
   ],
   "source": [
    "noise_paths"
   ]
  },
  {
   "cell_type": "markdown",
   "id": "01f85727",
   "metadata": {
    "papermill": {
     "duration": 0.043869,
     "end_time": "2023-07-17T07:11:05.182275",
     "exception": false,
     "start_time": "2023-07-17T07:11:05.138406",
     "status": "completed"
    },
    "tags": []
   },
   "source": [
    "**Split noise into chunks of 16,000 steps each**"
   ]
  },
  {
   "cell_type": "code",
   "execution_count": 9,
   "id": "461bd6e0",
   "metadata": {
    "execution": {
     "iopub.execute_input": "2023-07-17T07:11:05.275075Z",
     "iopub.status.busy": "2023-07-17T07:11:05.274225Z",
     "iopub.status.idle": "2023-07-17T07:11:05.276260Z",
     "shell.execute_reply": "2023-07-17T07:11:05.276738Z",
     "shell.execute_reply.started": "2023-07-15T05:55:26.795908Z"
    },
    "papermill": {
     "duration": 0.051094,
     "end_time": "2023-07-17T07:11:05.276872",
     "exception": false,
     "start_time": "2023-07-17T07:11:05.225778",
     "status": "completed"
    },
    "tags": []
   },
   "outputs": [],
   "source": [
    "command = (\n",
    "    \"for dir in `ls -1 \" + noise_path + \"`; do \"\n",
    "    \"for file in `ls -1 \" + noise_path + \"/$dir/*.wav`; do \"\n",
    "    \"sample_rate=`ffprobe -hide_banner -loglevel panic -show_streams \"\n",
    "    \"$file | grep sample_rate | cut -f2 -d=`; \"\n",
    "    \"if [ $sample_rate -ne 16000 ]; then \"\n",
    "    \"ffmpeg -hide_banner -loglevel panic -y \"\n",
    "    \"-i $file -ar 16000 temp.wav; \"\n",
    "    \"mv temp.wav $file; \"\n",
    "    \"fi; done; done\"\n",
    ")"
   ]
  },
  {
   "cell_type": "code",
   "execution_count": 10,
   "id": "5858aa72",
   "metadata": {
    "execution": {
     "iopub.execute_input": "2023-07-17T07:11:05.368281Z",
     "iopub.status.busy": "2023-07-17T07:11:05.367334Z",
     "iopub.status.idle": "2023-07-17T07:11:09.291193Z",
     "shell.execute_reply": "2023-07-17T07:11:09.290510Z",
     "shell.execute_reply.started": "2023-07-15T05:55:26.809274Z"
    },
    "papermill": {
     "duration": 3.969951,
     "end_time": "2023-07-17T07:11:09.291354",
     "exception": false,
     "start_time": "2023-07-17T07:11:05.321403",
     "status": "completed"
    },
    "tags": []
   },
   "outputs": [
    {
     "data": {
      "text/plain": [
       "<tf.Tensor: shape=(354, 16000, 1), dtype=float32, numpy=\n",
       "array([[[ 0.6796875 ],\n",
       "        [ 0.32202148],\n",
       "        [ 0.41156006],\n",
       "        ...,\n",
       "        [-0.07870483],\n",
       "        [-0.00308228],\n",
       "        [ 0.1557312 ]],\n",
       "\n",
       "       [[ 0.12347412],\n",
       "        [-0.0255127 ],\n",
       "        [-0.06317139],\n",
       "        ...,\n",
       "        [ 0.03457642],\n",
       "        [ 0.2083435 ],\n",
       "        [ 0.4513855 ]],\n",
       "\n",
       "       [[ 0.42971802],\n",
       "        [ 0.2899475 ],\n",
       "        [ 0.40582275],\n",
       "        ...,\n",
       "        [-0.59317017],\n",
       "        [-0.49490356],\n",
       "        [-0.60446167]],\n",
       "\n",
       "       ...,\n",
       "\n",
       "       [[ 0.04284668],\n",
       "        [ 0.00845337],\n",
       "        [-0.00296021],\n",
       "        ...,\n",
       "        [ 0.03219604],\n",
       "        [-0.00515747],\n",
       "        [-0.03042603]],\n",
       "\n",
       "       [[-0.04034424],\n",
       "        [-0.04818726],\n",
       "        [-0.05633545],\n",
       "        ...,\n",
       "        [ 0.00631714],\n",
       "        [ 0.03829956],\n",
       "        [ 0.02713013]],\n",
       "\n",
       "       [[-0.02148438],\n",
       "        [-0.05950928],\n",
       "        [-0.05187988],\n",
       "        ...,\n",
       "        [-0.00717163],\n",
       "        [-0.01553345],\n",
       "        [-0.01739502]]], dtype=float32)>"
      ]
     },
     "execution_count": 10,
     "metadata": {},
     "output_type": "execute_result"
    }
   ],
   "source": [
    "os.system(command)\n",
    "def load_noise_sample(path):\n",
    "    sample, sampling_rate = tf.audio.decode_wav(\n",
    "        tf.io.read_file(path), desired_channels=1\n",
    "    )\n",
    "    if sampling_rate == sample_rate:\n",
    "        slices = int(sample.shape[0] / sample_rate)\n",
    "        sample = tf.split(sample[: slices * sample_rate], slices)\n",
    "        return sample\n",
    "    else:\n",
    "        print(\"Sampling rate for\",path, \"is incorrect\")\n",
    "        return None\n",
    "\n",
    "\n",
    "noises = []\n",
    "for path in noise_paths:\n",
    "    sample = load_noise_sample(path)\n",
    "    if sample:\n",
    "        noises.extend(sample)\n",
    "noises = tf.stack(noises)\n",
    "noises"
   ]
  },
  {
   "cell_type": "markdown",
   "id": "cbc4354e",
   "metadata": {
    "papermill": {
     "duration": 0.045387,
     "end_time": "2023-07-17T07:11:09.381819",
     "exception": false,
     "start_time": "2023-07-17T07:11:09.336432",
     "status": "completed"
    },
    "tags": []
   },
   "source": [
    "**DATASET GENERATION**"
   ]
  },
  {
   "cell_type": "code",
   "execution_count": 11,
   "id": "b91dd4e6",
   "metadata": {
    "execution": {
     "iopub.execute_input": "2023-07-17T07:11:09.481056Z",
     "iopub.status.busy": "2023-07-17T07:11:09.479557Z",
     "iopub.status.idle": "2023-07-17T07:11:09.481891Z",
     "shell.execute_reply": "2023-07-17T07:11:09.482392Z",
     "shell.execute_reply.started": "2023-07-15T05:55:31.845823Z"
    },
    "papermill": {
     "duration": 0.055454,
     "end_time": "2023-07-17T07:11:09.482546",
     "exception": false,
     "start_time": "2023-07-17T07:11:09.427092",
     "status": "completed"
    },
    "tags": []
   },
   "outputs": [],
   "source": [
    "def paths_and_labels_to_dataset(audio_paths, labels):\n",
    "    path_ds = tf.data.Dataset.from_tensor_slices(audio_paths)\n",
    "    audio_ds = path_ds.map(lambda x: path_to_audio(x))\n",
    "    label_ds = tf.data.Dataset.from_tensor_slices(labels)\n",
    "    return tf.data.Dataset.zip((audio_ds, label_ds))"
   ]
  },
  {
   "cell_type": "code",
   "execution_count": 12,
   "id": "a77d2bc9",
   "metadata": {
    "execution": {
     "iopub.execute_input": "2023-07-17T07:11:09.582187Z",
     "iopub.status.busy": "2023-07-17T07:11:09.581418Z",
     "iopub.status.idle": "2023-07-17T07:11:09.585528Z",
     "shell.execute_reply": "2023-07-17T07:11:09.584996Z",
     "shell.execute_reply.started": "2023-07-15T05:55:31.862605Z"
    },
    "papermill": {
     "duration": 0.055279,
     "end_time": "2023-07-17T07:11:09.585653",
     "exception": false,
     "start_time": "2023-07-17T07:11:09.530374",
     "status": "completed"
    },
    "tags": []
   },
   "outputs": [],
   "source": [
    "def path_to_audio(path):\n",
    "    audio = tf.io.read_file(path)\n",
    "    audio, _ = tf.audio.decode_wav(audio, 1, sample_rate)\n",
    "    return audio"
   ]
  },
  {
   "cell_type": "markdown",
   "id": "89b86c62",
   "metadata": {
    "papermill": {
     "duration": 0.049029,
     "end_time": "2023-07-17T07:11:09.681193",
     "exception": false,
     "start_time": "2023-07-17T07:11:09.632164",
     "status": "completed"
    },
    "tags": []
   },
   "source": [
    "**add noise to dataset**"
   ]
  },
  {
   "cell_type": "code",
   "execution_count": 13,
   "id": "2befc0bf",
   "metadata": {
    "execution": {
     "iopub.execute_input": "2023-07-17T07:11:09.785395Z",
     "iopub.status.busy": "2023-07-17T07:11:09.784507Z",
     "iopub.status.idle": "2023-07-17T07:11:09.786825Z",
     "shell.execute_reply": "2023-07-17T07:11:09.787281Z",
     "shell.execute_reply.started": "2023-07-15T05:55:31.882462Z"
    },
    "papermill": {
     "duration": 0.056073,
     "end_time": "2023-07-17T07:11:09.787421",
     "exception": false,
     "start_time": "2023-07-17T07:11:09.731348",
     "status": "completed"
    },
    "tags": []
   },
   "outputs": [],
   "source": [
    "def add_noise(audio, noises=None, scale=0.5):\n",
    "    if noises is not None:\n",
    "        tf_rnd = tf.random.uniform(\n",
    "            (tf.shape(audio)[0],), 0, noises.shape[0], dtype=tf.int32\n",
    "        )\n",
    "        noise = tf.gather(noises, tf_rnd, axis=0)\n",
    "\n",
    "        prop = tf.math.reduce_max(audio, axis=1) / tf.math.reduce_max(noise, axis=1)\n",
    "        prop = tf.repeat(tf.expand_dims(prop, axis=1), tf.shape(audio)[1], axis=1)\n",
    "\n",
    "        audio = audio + noise * prop * scale\n",
    "        print(audio)\n",
    "    return audio"
   ]
  },
  {
   "cell_type": "code",
   "execution_count": 14,
   "id": "b5d0b549",
   "metadata": {
    "execution": {
     "iopub.execute_input": "2023-07-17T07:11:09.886505Z",
     "iopub.status.busy": "2023-07-17T07:11:09.884774Z",
     "iopub.status.idle": "2023-07-17T07:11:09.887284Z",
     "shell.execute_reply": "2023-07-17T07:11:09.887839Z",
     "shell.execute_reply.started": "2023-07-15T05:55:31.906650Z"
    },
    "papermill": {
     "duration": 0.054804,
     "end_time": "2023-07-17T07:11:09.888017",
     "exception": false,
     "start_time": "2023-07-17T07:11:09.833213",
     "status": "completed"
    },
    "tags": []
   },
   "outputs": [],
   "source": [
    "def audio_to_fft(audio):\n",
    "    audio = tf.squeeze(audio, axis=-1)\n",
    "    fft = tf.signal.fft(\n",
    "        tf.cast(tf.complex(real=audio, imag=tf.zeros_like(audio)), tf.complex64)\n",
    "    )\n",
    "    fft = tf.expand_dims(fft, axis=-1)\n",
    "\n",
    "    return tf.math.abs(fft[:, : (audio.shape[1] // 2), :])"
   ]
  },
  {
   "cell_type": "code",
   "execution_count": 15,
   "id": "0c4ecf96",
   "metadata": {
    "execution": {
     "iopub.execute_input": "2023-07-17T07:11:09.984562Z",
     "iopub.status.busy": "2023-07-17T07:11:09.983574Z",
     "iopub.status.idle": "2023-07-17T07:11:10.015901Z",
     "shell.execute_reply": "2023-07-17T07:11:10.016370Z",
     "shell.execute_reply.started": "2023-07-15T05:55:31.924094Z"
    },
    "papermill": {
     "duration": 0.084181,
     "end_time": "2023-07-17T07:11:10.016510",
     "exception": false,
     "start_time": "2023-07-17T07:11:09.932329",
     "status": "completed"
    },
    "tags": []
   },
   "outputs": [
    {
     "name": "stdout",
     "output_type": "stream",
     "text": [
      "['Benjamin_Netanyau', 'Julia_Gillard', 'Magaret_Tarcher', 'Jens_Stoltenberg', 'Nelson_Mandela']\n",
      "Speaker: Benjamin_Netanyau\n",
      "Speaker: Julia_Gillard\n",
      "Speaker: Magaret_Tarcher\n",
      "Speaker: Jens_Stoltenberg\n",
      "Speaker: Nelson_Mandela\n"
     ]
    }
   ],
   "source": [
    "\n",
    "class_names = os.listdir(audio_path)\n",
    "print(class_names,)\n",
    "\n",
    "audio_paths = []\n",
    "labels = []\n",
    "for label, name in enumerate(class_names):\n",
    "    print(\"Speaker:\",(name))\n",
    "    dir_path = Path(audio_path) / name\n",
    "    speaker_sample_paths = [\n",
    "        os.path.join(dir_path, filepath)\n",
    "        for filepath in os.listdir(dir_path)\n",
    "        if filepath.endswith(\".wav\")\n",
    "    ]\n",
    "    audio_paths += speaker_sample_paths\n",
    "    labels += [label] * len(speaker_sample_paths)"
   ]
  },
  {
   "cell_type": "code",
   "execution_count": 16,
   "id": "9877482c",
   "metadata": {
    "execution": {
     "iopub.execute_input": "2023-07-17T07:11:10.113988Z",
     "iopub.status.busy": "2023-07-17T07:11:10.113269Z",
     "iopub.status.idle": "2023-07-17T07:11:10.116191Z",
     "shell.execute_reply": "2023-07-17T07:11:10.115639Z",
     "shell.execute_reply.started": "2023-07-15T05:55:31.990298Z"
    },
    "papermill": {
     "duration": 0.054275,
     "end_time": "2023-07-17T07:11:10.116317",
     "exception": false,
     "start_time": "2023-07-17T07:11:10.062042",
     "status": "completed"
    },
    "tags": []
   },
   "outputs": [],
   "source": [
    "# Shuffle to generate random data\n",
    "rng = np.random.RandomState(shuffle_seed)\n",
    "rng.shuffle(audio_paths)\n",
    "rng = np.random.RandomState(shuffle_seed)\n",
    "rng.shuffle(labels)"
   ]
  },
  {
   "cell_type": "code",
   "execution_count": 17,
   "id": "45fd9ac5",
   "metadata": {
    "execution": {
     "iopub.execute_input": "2023-07-17T07:11:10.212032Z",
     "iopub.status.busy": "2023-07-17T07:11:10.211203Z",
     "iopub.status.idle": "2023-07-17T07:11:10.213763Z",
     "shell.execute_reply": "2023-07-17T07:11:10.213256Z",
     "shell.execute_reply.started": "2023-07-15T05:55:32.009387Z"
    },
    "papermill": {
     "duration": 0.05249,
     "end_time": "2023-07-17T07:11:10.213883",
     "exception": false,
     "start_time": "2023-07-17T07:11:10.161393",
     "status": "completed"
    },
    "tags": []
   },
   "outputs": [],
   "source": [
    "# Split into training and validation\n",
    "num_val_samples = int(valid_split * len(audio_paths))\n",
    "train_audio_paths = audio_paths[:-num_val_samples]\n",
    "train_labels = labels[:-num_val_samples]\n",
    "\n",
    "\n",
    "valid_audio_paths = audio_paths[-num_val_samples:]\n",
    "valid_labels = labels[-num_val_samples:]"
   ]
  },
  {
   "cell_type": "code",
   "execution_count": 18,
   "id": "59206a9e",
   "metadata": {
    "execution": {
     "iopub.execute_input": "2023-07-17T07:11:10.337508Z",
     "iopub.status.busy": "2023-07-17T07:11:10.321946Z",
     "iopub.status.idle": "2023-07-17T07:11:10.500306Z",
     "shell.execute_reply": "2023-07-17T07:11:10.499638Z",
     "shell.execute_reply.started": "2023-07-15T05:55:32.026156Z"
    },
    "papermill": {
     "duration": 0.241276,
     "end_time": "2023-07-17T07:11:10.500447",
     "exception": false,
     "start_time": "2023-07-17T07:11:10.259171",
     "status": "completed"
    },
    "tags": []
   },
   "outputs": [],
   "source": [
    "# Create datasets, one for training and the other for validation\n",
    "train_ds = paths_and_labels_to_dataset(train_audio_paths, train_labels)\n",
    "train_ds = train_ds.shuffle(buffer_size=batch_size * 8, seed=shuffle_seed).batch(\n",
    "    batch_size\n",
    ")\n",
    "\n",
    "valid_ds = paths_and_labels_to_dataset(valid_audio_paths, valid_labels)\n",
    "valid_ds = valid_ds.shuffle(buffer_size=32 * 8, seed=shuffle_seed).batch(32)"
   ]
  },
  {
   "cell_type": "markdown",
   "id": "83496c41",
   "metadata": {
    "papermill": {
     "duration": 0.04593,
     "end_time": "2023-07-17T07:11:10.592433",
     "exception": false,
     "start_time": "2023-07-17T07:11:10.546503",
     "status": "completed"
    },
    "tags": []
   },
   "source": [
    "**feature Extraction**"
   ]
  },
  {
   "cell_type": "code",
   "execution_count": 19,
   "id": "453ded95",
   "metadata": {
    "execution": {
     "iopub.execute_input": "2023-07-17T07:11:10.686482Z",
     "iopub.status.busy": "2023-07-17T07:11:10.685577Z",
     "iopub.status.idle": "2023-07-17T07:11:11.013087Z",
     "shell.execute_reply": "2023-07-17T07:11:11.013830Z",
     "shell.execute_reply.started": "2023-07-15T05:55:32.316000Z"
    },
    "papermill": {
     "duration": 0.376731,
     "end_time": "2023-07-17T07:11:11.013998",
     "exception": false,
     "start_time": "2023-07-17T07:11:10.637267",
     "status": "completed"
    },
    "tags": []
   },
   "outputs": [
    {
     "name": "stdout",
     "output_type": "stream",
     "text": [
      "Tensor(\"add:0\", shape=(None, 16000, 1), dtype=float32)\n"
     ]
    }
   ],
   "source": [
    "# Add noise to the training set\n",
    "train_ds = train_ds.map(\n",
    "    lambda x, y: (add_noise(x, noises, scale=scale), y),\n",
    "    num_parallel_calls=tf.data.experimental.AUTOTUNE,\n",
    ")\n",
    "\n",
    "# Transform audio wave to the frequency domain using `audio_to_fft`\n",
    "train_ds = train_ds.map(\n",
    "    lambda x, y: (audio_to_fft(x), y), num_parallel_calls=tf.data.experimental.AUTOTUNE\n",
    ")\n",
    "\n",
    "train_ds = train_ds.prefetch(tf.data.experimental.AUTOTUNE)\n",
    "\n",
    "valid_ds = valid_ds.map(\n",
    "    lambda x, y: (audio_to_fft(x), y), num_parallel_calls=tf.data.experimental.AUTOTUNE\n",
    ")\n",
    "valid_ds = valid_ds.prefetch(tf.data.experimental.AUTOTUNE)"
   ]
  },
  {
   "cell_type": "markdown",
   "id": "4c3296ff",
   "metadata": {
    "papermill": {
     "duration": 0.04554,
     "end_time": "2023-07-17T07:11:11.106092",
     "exception": false,
     "start_time": "2023-07-17T07:11:11.060552",
     "status": "completed"
    },
    "tags": []
   },
   "source": [
    "**Model**"
   ]
  },
  {
   "cell_type": "code",
   "execution_count": 20,
   "id": "17f234e0",
   "metadata": {
    "execution": {
     "iopub.execute_input": "2023-07-17T07:11:11.204020Z",
     "iopub.status.busy": "2023-07-17T07:11:11.203259Z",
     "iopub.status.idle": "2023-07-17T07:11:12.380791Z",
     "shell.execute_reply": "2023-07-17T07:11:12.381587Z",
     "shell.execute_reply.started": "2023-07-15T05:55:32.690838Z"
    },
    "papermill": {
     "duration": 1.230039,
     "end_time": "2023-07-17T07:11:12.381826",
     "exception": false,
     "start_time": "2023-07-17T07:11:11.151787",
     "status": "completed"
    },
    "tags": []
   },
   "outputs": [],
   "source": [
    "from tensorflow.keras.layers import Conv1D"
   ]
  },
  {
   "cell_type": "code",
   "execution_count": 21,
   "id": "fa8e67ca",
   "metadata": {
    "execution": {
     "iopub.execute_input": "2023-07-17T07:11:12.594573Z",
     "iopub.status.busy": "2023-07-17T07:11:12.593658Z",
     "iopub.status.idle": "2023-07-17T07:11:12.908489Z",
     "shell.execute_reply": "2023-07-17T07:11:12.909104Z",
     "shell.execute_reply.started": "2023-07-15T05:55:33.689785Z"
    },
    "papermill": {
     "duration": 0.430315,
     "end_time": "2023-07-17T07:11:12.909278",
     "exception": false,
     "start_time": "2023-07-17T07:11:12.478963",
     "status": "completed"
    },
    "tags": []
   },
   "outputs": [
    {
     "name": "stdout",
     "output_type": "stream",
     "text": [
      "Model: \"model\"\n",
      "__________________________________________________________________________________________________\n",
      "Layer (type)                    Output Shape         Param #     Connected to                     \n",
      "==================================================================================================\n",
      "input (InputLayer)              [(None, 8000, 1)]    0                                            \n",
      "__________________________________________________________________________________________________\n",
      "conv1d_15 (Conv1D)              (None, 8000, 128)    512         input[0][0]                      \n",
      "__________________________________________________________________________________________________\n",
      "activation_10 (Activation)      (None, 8000, 128)    0           conv1d_15[0][0]                  \n",
      "__________________________________________________________________________________________________\n",
      "conv1d_16 (Conv1D)              (None, 8000, 128)    49280       activation_10[0][0]              \n",
      "__________________________________________________________________________________________________\n",
      "activation_11 (Activation)      (None, 8000, 128)    0           conv1d_16[0][0]                  \n",
      "__________________________________________________________________________________________________\n",
      "conv1d_17 (Conv1D)              (None, 8000, 128)    49280       activation_11[0][0]              \n",
      "__________________________________________________________________________________________________\n",
      "conv1d_14 (Conv1D)              (None, 8000, 128)    256         input[0][0]                      \n",
      "__________________________________________________________________________________________________\n",
      "add_4 (Add)                     (None, 8000, 128)    0           conv1d_17[0][0]                  \n",
      "                                                                 conv1d_14[0][0]                  \n",
      "__________________________________________________________________________________________________\n",
      "activation_12 (Activation)      (None, 8000, 128)    0           add_4[0][0]                      \n",
      "__________________________________________________________________________________________________\n",
      "max_pooling1d_4 (MaxPooling1D)  (None, 4000, 128)    0           activation_12[0][0]              \n",
      "__________________________________________________________________________________________________\n",
      "average_pooling1d (AveragePooli (None, 1333, 128)    0           max_pooling1d_4[0][0]            \n",
      "__________________________________________________________________________________________________\n",
      "flatten (Flatten)               (None, 170624)       0           average_pooling1d[0][0]          \n",
      "__________________________________________________________________________________________________\n",
      "dense (Dense)                   (None, 256)          43680000    flatten[0][0]                    \n",
      "__________________________________________________________________________________________________\n",
      "dense_1 (Dense)                 (None, 128)          32896       dense[0][0]                      \n",
      "__________________________________________________________________________________________________\n",
      "output (Dense)                  (None, 5)            645         dense_1[0][0]                    \n",
      "==================================================================================================\n",
      "Total params: 43,812,869\n",
      "Trainable params: 43,812,869\n",
      "Non-trainable params: 0\n",
      "__________________________________________________________________________________________________\n"
     ]
    }
   ],
   "source": [
    "def residual_block(x, filters, conv_num = 3, activation = \"relu\"):\n",
    "    s = keras.layers.Conv1D(filters, 1, padding = \"same\")(x)\n",
    "    \n",
    "    for i in range(conv_num - 1):\n",
    "        x = keras.layers.Conv1D(filters, 3, padding = \"same\")(x)\n",
    "        x = keras.layers.Activation(activation)(x)\n",
    "    \n",
    "    x = keras.layers.Conv1D(filters, 3, padding = \"same\")(x)\n",
    "    x = keras.layers.Add()([x, s])\n",
    "    x = keras.layers.Activation(activation)(x)\n",
    "    \n",
    "    return keras.layers.MaxPool1D(pool_size = 2, strides = 2)(x)\n",
    "\n",
    "def build_model(input_shape, num_classes):\n",
    "    inputs = keras.layers.Input(shape = input_shape, name = \"input\")\n",
    "    \n",
    "    x = residual_block(inputs, 16, 2)\n",
    "    x = residual_block(inputs, 32, 2)\n",
    "    x = residual_block(inputs, 64, 3)\n",
    "    x = residual_block(inputs, 128, 3)\n",
    "    x = residual_block(inputs, 128, 3)\n",
    "    x = keras.layers.AveragePooling1D(pool_size=3, strides=3)(x)\n",
    "    x = keras.layers.Flatten()(x)\n",
    "    x = keras.layers.Dense(256, activation=\"relu\")(x)\n",
    "    x = keras.layers.Dense(128, activation=\"relu\")(x)\n",
    "    \n",
    "    outputs = keras.layers.Dense(num_classes, activation = \"softmax\", name = \"output\")(x)\n",
    "    \n",
    "    return keras.models.Model(inputs = inputs, outputs = outputs)\n",
    "\n",
    "model = build_model((sample_rate // 2, 1), len(class_names))\n",
    "\n",
    "model.summary()\n",
    "\n",
    "model.compile(optimizer=\"Adam\", loss=\"sparse_categorical_crossentropy\", metrics=[\"accuracy\"]) \n",
    "\n",
    "model_save_filename = \"model.h5\"\n",
    "\n",
    "earlystopping_cb = keras.callbacks.EarlyStopping(patience=10, restore_best_weights=True)\n",
    "\n",
    "mdlcheckpoint_cb = keras.callbacks.ModelCheckpoint(model_save_filename, monitor=\"val_accuracy\", save_best_only=True)"
   ]
  },
  {
   "cell_type": "markdown",
   "id": "2fff8a5c",
   "metadata": {
    "papermill": {
     "duration": 0.046782,
     "end_time": "2023-07-17T07:11:13.002685",
     "exception": false,
     "start_time": "2023-07-17T07:11:12.955903",
     "status": "completed"
    },
    "tags": []
   },
   "source": [
    "**Training**"
   ]
  },
  {
   "cell_type": "code",
   "execution_count": 22,
   "id": "f6cb4560",
   "metadata": {
    "execution": {
     "iopub.execute_input": "2023-07-17T07:11:13.100497Z",
     "iopub.status.busy": "2023-07-17T07:11:13.099565Z",
     "iopub.status.idle": "2023-07-17T07:11:13.101843Z",
     "shell.execute_reply": "2023-07-17T07:11:13.102346Z",
     "shell.execute_reply.started": "2023-07-15T05:55:34.053259Z"
    },
    "papermill": {
     "duration": 0.053038,
     "end_time": "2023-07-17T07:11:13.102495",
     "exception": false,
     "start_time": "2023-07-17T07:11:13.049457",
     "status": "completed"
    },
    "tags": []
   },
   "outputs": [],
   "source": [
    "# epochs=1"
   ]
  },
  {
   "cell_type": "code",
   "execution_count": 23,
   "id": "b8ec1b00",
   "metadata": {
    "execution": {
     "iopub.execute_input": "2023-07-17T07:11:13.202919Z",
     "iopub.status.busy": "2023-07-17T07:11:13.202142Z",
     "iopub.status.idle": "2023-07-17T07:29:53.216474Z",
     "shell.execute_reply": "2023-07-17T07:29:53.215938Z",
     "shell.execute_reply.started": "2023-07-15T05:55:34.059706Z"
    },
    "papermill": {
     "duration": 1120.066312,
     "end_time": "2023-07-17T07:29:53.216626",
     "exception": false,
     "start_time": "2023-07-17T07:11:13.150314",
     "status": "completed"
    },
    "tags": []
   },
   "outputs": [
    {
     "name": "stdout",
     "output_type": "stream",
     "text": [
      "Epoch 1/15\n",
      "53/53 [==============================] - 73s 1s/step - loss: 18.1698 - accuracy: 0.6147 - val_loss: 0.3662 - val_accuracy: 0.8573\n"
     ]
    },
    {
     "name": "stderr",
     "output_type": "stream",
     "text": [
      "/opt/conda/lib/python3.7/site-packages/keras/utils/generic_utils.py:497: CustomMaskWarning: Custom mask layers require a config and must override get_config. When loading, the custom mask layer must be passed to the custom_objects argument.\n",
      "  category=CustomMaskWarning)\n"
     ]
    },
    {
     "name": "stdout",
     "output_type": "stream",
     "text": [
      "Epoch 2/15\n",
      "53/53 [==============================] - 67s 1s/step - loss: 0.2369 - accuracy: 0.9119 - val_loss: 0.1356 - val_accuracy: 0.9533\n",
      "Epoch 3/15\n",
      "53/53 [==============================] - 69s 1s/step - loss: 0.1739 - accuracy: 0.9317 - val_loss: 0.1051 - val_accuracy: 0.9653\n",
      "Epoch 4/15\n",
      "53/53 [==============================] - 67s 1s/step - loss: 0.1222 - accuracy: 0.9541 - val_loss: 0.1536 - val_accuracy: 0.9413\n",
      "Epoch 5/15\n",
      "53/53 [==============================] - 66s 1s/step - loss: 0.1409 - accuracy: 0.9507 - val_loss: 0.1200 - val_accuracy: 0.9667\n",
      "Epoch 6/15\n",
      "53/53 [==============================] - 67s 1s/step - loss: 0.0820 - accuracy: 0.9714 - val_loss: 0.0552 - val_accuracy: 0.9827\n",
      "Epoch 7/15\n",
      "53/53 [==============================] - 67s 1s/step - loss: 0.0695 - accuracy: 0.9756 - val_loss: 0.0570 - val_accuracy: 0.9867\n",
      "Epoch 8/15\n",
      "53/53 [==============================] - 67s 1s/step - loss: 0.0717 - accuracy: 0.9732 - val_loss: 0.0411 - val_accuracy: 0.9867\n",
      "Epoch 9/15\n",
      "53/53 [==============================] - 66s 1s/step - loss: 0.0631 - accuracy: 0.9767 - val_loss: 0.0454 - val_accuracy: 0.9867\n",
      "Epoch 10/15\n",
      "53/53 [==============================] - 67s 1s/step - loss: 0.0651 - accuracy: 0.9785 - val_loss: 0.1027 - val_accuracy: 0.9747\n",
      "Epoch 11/15\n",
      "53/53 [==============================] - 67s 1s/step - loss: 0.0596 - accuracy: 0.9790 - val_loss: 0.0863 - val_accuracy: 0.9800\n",
      "Epoch 12/15\n",
      "53/53 [==============================] - 67s 1s/step - loss: 0.0439 - accuracy: 0.9844 - val_loss: 0.0583 - val_accuracy: 0.9880\n",
      "Epoch 13/15\n",
      "53/53 [==============================] - 66s 1s/step - loss: 0.0507 - accuracy: 0.9812 - val_loss: 0.0502 - val_accuracy: 0.9880\n",
      "Epoch 14/15\n",
      "53/53 [==============================] - 66s 1s/step - loss: 0.0499 - accuracy: 0.9825 - val_loss: 0.0815 - val_accuracy: 0.9747\n",
      "Epoch 15/15\n",
      "53/53 [==============================] - 67s 1s/step - loss: 0.0366 - accuracy: 0.9877 - val_loss: 0.0431 - val_accuracy: 0.9880\n"
     ]
    }
   ],
   "source": [
    "history = model.fit(\n",
    "    train_ds,\n",
    "    epochs=epochs,\n",
    "    validation_data=valid_ds,\n",
    "    callbacks=[earlystopping_cb, mdlcheckpoint_cb],\n",
    ")"
   ]
  },
  {
   "cell_type": "markdown",
   "id": "766ac659",
   "metadata": {
    "papermill": {
     "duration": 0.364403,
     "end_time": "2023-07-17T07:29:53.953022",
     "exception": false,
     "start_time": "2023-07-17T07:29:53.588619",
     "status": "completed"
    },
    "tags": []
   },
   "source": [
    "**Accuracy**"
   ]
  },
  {
   "cell_type": "code",
   "execution_count": 24,
   "id": "95ab30ec",
   "metadata": {
    "execution": {
     "iopub.execute_input": "2023-07-17T07:29:54.691682Z",
     "iopub.status.busy": "2023-07-17T07:29:54.690744Z",
     "iopub.status.idle": "2023-07-17T07:30:01.051566Z",
     "shell.execute_reply": "2023-07-17T07:30:01.051040Z",
     "shell.execute_reply.started": "2023-07-15T05:56:56.820627Z"
    },
    "papermill": {
     "duration": 6.732051,
     "end_time": "2023-07-17T07:30:01.051700",
     "exception": false,
     "start_time": "2023-07-17T07:29:54.319649",
     "status": "completed"
    },
    "tags": []
   },
   "outputs": [
    {
     "name": "stdout",
     "output_type": "stream",
     "text": [
      "24/24 [==============================] - 6s 249ms/step - loss: 0.0431 - accuracy: 0.9880\n",
      "Accuracy of model: [0.04310839995741844, 0.9879999756813049]\n"
     ]
    }
   ],
   "source": [
    "print(\"Accuracy of model:\",model.evaluate(valid_ds))"
   ]
  },
  {
   "cell_type": "markdown",
   "id": "6bb13d37",
   "metadata": {
    "papermill": {
     "duration": 0.378528,
     "end_time": "2023-07-17T07:30:01.808420",
     "exception": false,
     "start_time": "2023-07-17T07:30:01.429892",
     "status": "completed"
    },
    "tags": []
   },
   "source": [
    "**Predict**"
   ]
  },
  {
   "cell_type": "code",
   "execution_count": 25,
   "id": "9234e64f",
   "metadata": {
    "execution": {
     "iopub.execute_input": "2023-07-17T07:30:02.629318Z",
     "iopub.status.busy": "2023-07-17T07:30:02.628293Z",
     "iopub.status.idle": "2023-07-17T07:30:03.469261Z",
     "shell.execute_reply": "2023-07-17T07:30:03.470073Z",
     "shell.execute_reply.started": "2023-07-15T05:57:07.084647Z"
    },
    "papermill": {
     "duration": 1.282149,
     "end_time": "2023-07-17T07:30:03.470276",
     "exception": false,
     "start_time": "2023-07-17T07:30:02.188127",
     "status": "completed"
    },
    "tags": []
   },
   "outputs": [
    {
     "name": "stdout",
     "output_type": "stream",
     "text": [
      "Tensor(\"add:0\", shape=(None, 16000, 1), dtype=float32)\n",
      "Speaker:\u001b[92m Benjamin_Netanyau\u001b[0m\tPredicted:\u001b[92m Benjamin_Netanyau\u001b[0m\n",
      "Welcome\n",
      "The speaker is Benjamin_Netanyau\n",
      "Speaker:\u001b[92m Julia_Gillard\u001b[0m\tPredicted:\u001b[92m Julia_Gillard\u001b[0m\n",
      "Welcome\n",
      "The speaker is Julia_Gillard\n",
      "Speaker:\u001b[92m Julia_Gillard\u001b[0m\tPredicted:\u001b[92m Julia_Gillard\u001b[0m\n",
      "Welcome\n",
      "The speaker is Julia_Gillard\n",
      "Speaker:\u001b[92m Julia_Gillard\u001b[0m\tPredicted:\u001b[92m Julia_Gillard\u001b[0m\n",
      "Welcome\n",
      "The speaker is Julia_Gillard\n",
      "Speaker:\u001b[92m Benjamin_Netanyau\u001b[0m\tPredicted:\u001b[92m Benjamin_Netanyau\u001b[0m\n",
      "Welcome\n",
      "The speaker is Benjamin_Netanyau\n",
      "Speaker:\u001b[92m Julia_Gillard\u001b[0m\tPredicted:\u001b[92m Julia_Gillard\u001b[0m\n",
      "Welcome\n",
      "The speaker is Julia_Gillard\n",
      "Speaker:\u001b[92m Nelson_Mandela\u001b[0m\tPredicted:\u001b[92m Nelson_Mandela\u001b[0m\n",
      "Welcome\n",
      "The speaker is Nelson_Mandela\n",
      "Speaker:\u001b[92m Magaret_Tarcher\u001b[0m\tPredicted:\u001b[92m Magaret_Tarcher\u001b[0m\n",
      "Welcome\n",
      "The speaker is Magaret_Tarcher\n",
      "Speaker:\u001b[92m Nelson_Mandela\u001b[0m\tPredicted:\u001b[92m Nelson_Mandela\u001b[0m\n",
      "Welcome\n",
      "The speaker is Nelson_Mandela\n",
      "Speaker:\u001b[92m Benjamin_Netanyau\u001b[0m\tPredicted:\u001b[92m Benjamin_Netanyau\u001b[0m\n",
      "Welcome\n",
      "The speaker is Benjamin_Netanyau\n"
     ]
    }
   ],
   "source": [
    "SAMPLES_TO_DISPLAY = 10\n",
    "\n",
    "test_ds = paths_and_labels_to_dataset(valid_audio_paths, valid_labels)\n",
    "test_ds = test_ds.shuffle(buffer_size=batch_size * 8, seed=shuffle_seed).batch(\n",
    "    batch_size\n",
    ")\n",
    "\n",
    "test_ds = test_ds.map(lambda x, y: (add_noise(x, noises, scale=scale), y))\n",
    "\n",
    "for audios, labels in test_ds.take(1):\n",
    "    ffts = audio_to_fft(audios)\n",
    "    y_pred = model.predict(ffts)\n",
    "    rnd = np.random.randint(0, batch_size, SAMPLES_TO_DISPLAY)\n",
    "    audios = audios.numpy()[rnd, :, :]\n",
    "    labels = labels.numpy()[rnd]\n",
    "    y_pred = np.argmax(y_pred, axis=-1)[rnd]\n",
    "\n",
    "    for index in range(SAMPLES_TO_DISPLAY):\n",
    "        print(\n",
    "            \"Speaker:\\33{} {}\\33[0m\\tPredicted:\\33{} {}\\33[0m\".format(\n",
    "                \"[92m\" if labels[index] == y_pred[index] else \"[91m\",\n",
    "                class_names[labels[index]],\n",
    "                \"[92m\" if labels[index] == y_pred[index] else \"[91m\",\n",
    "                class_names[y_pred[index]],\n",
    "            )\n",
    "        )\n",
    "        if labels[index] ==y_pred[index]:\n",
    "            print(\"Welcome\")\n",
    "        else:\n",
    "            print(\"Sorry\")\n",
    "        print(\"The speaker is\" if labels[index] == y_pred[index] else \"\", class_names[y_pred[index]])"
   ]
  },
  {
   "cell_type": "markdown",
   "id": "0501bc4b",
   "metadata": {
    "papermill": {
     "duration": 0.374061,
     "end_time": "2023-07-17T07:30:04.217519",
     "exception": false,
     "start_time": "2023-07-17T07:30:03.843458",
     "status": "completed"
    },
    "tags": []
   },
   "source": [
    "**Predcit the speaker from the test dataset for real time pred.**"
   ]
  },
  {
   "cell_type": "code",
   "execution_count": 26,
   "id": "52b164e8",
   "metadata": {
    "execution": {
     "iopub.execute_input": "2023-07-17T07:30:04.974405Z",
     "iopub.status.busy": "2023-07-17T07:30:04.972725Z",
     "iopub.status.idle": "2023-07-17T07:30:04.978009Z",
     "shell.execute_reply": "2023-07-17T07:30:04.977446Z",
     "shell.execute_reply.started": "2023-07-15T05:57:08.079461Z"
    },
    "papermill": {
     "duration": 0.384545,
     "end_time": "2023-07-17T07:30:04.978160",
     "exception": false,
     "start_time": "2023-07-17T07:30:04.593615",
     "status": "completed"
    },
    "tags": []
   },
   "outputs": [],
   "source": [
    " def paths_to_dataset(audio_paths):\n",
    "    path_ds = tf.data.Dataset.from_tensor_slices(audio_paths)\n",
    "    return tf.data.Dataset.zip((path_ds))\n",
    "\n",
    "def predict(path, labels):\n",
    "    test = paths_and_labels_to_dataset(path, labels)\n",
    "\n",
    "\n",
    "    test = test.shuffle(buffer_size=batch_size * 8, seed=shuffle_seed).batch(\n",
    "    batch_size\n",
    "    )\n",
    "    test = test.prefetch(tf.data.experimental.AUTOTUNE)\n",
    "\n",
    "\n",
    "    test = test.map(lambda x, y: (add_noise(x, noises, scale=scale), y))\n",
    "\n",
    "    for audios, labels in test.take(1):\n",
    "        ffts = audio_to_fft(audios)\n",
    "        y_pred = model.predict(ffts)\n",
    "        rnd = np.random.randint(0, 1, 1)\n",
    "        audios = audios.numpy()[rnd, :]\n",
    "        labels = labels.numpy()[rnd]\n",
    "        y_pred = np.argmax(y_pred, axis=-1)[rnd]\n",
    "\n",
    "    for index in range(1):\n",
    "            print(\n",
    "            \"Speaker:\\33{} {}\\33[0m\\tPredicted:\\33{} {}\\33[0m\".format(\n",
    "            \"[92m\",y_pred[index],\n",
    "                \"[92m\", y_pred[index]\n",
    "                )\n",
    "            )\n",
    "            \n",
    "            print(\"Speaker Predicted:\",class_names[y_pred[index]])\n",
    "    return class_names[y_pred[index]]\n",
    "\n"
   ]
  },
  {
   "cell_type": "code",
   "execution_count": 27,
   "id": "be2dad38",
   "metadata": {
    "execution": {
     "iopub.execute_input": "2023-07-17T07:30:05.732839Z",
     "iopub.status.busy": "2023-07-17T07:30:05.731897Z",
     "iopub.status.idle": "2023-07-17T07:30:05.733888Z",
     "shell.execute_reply": "2023-07-17T07:30:05.734361Z"
    },
    "papermill": {
     "duration": 0.377324,
     "end_time": "2023-07-17T07:30:05.734512",
     "exception": false,
     "start_time": "2023-07-17T07:30:05.357188",
     "status": "completed"
    },
    "tags": []
   },
   "outputs": [],
   "source": [
    "import csv\n",
    "from datetime import datetime"
   ]
  },
  {
   "cell_type": "code",
   "execution_count": 28,
   "id": "93b2d970",
   "metadata": {
    "execution": {
     "iopub.execute_input": "2023-07-17T07:30:06.501680Z",
     "iopub.status.busy": "2023-07-17T07:30:06.500642Z",
     "iopub.status.idle": "2023-07-17T07:30:06.503943Z",
     "shell.execute_reply": "2023-07-17T07:30:06.504479Z",
     "shell.execute_reply.started": "2023-07-15T05:57:08.115774Z"
    },
    "papermill": {
     "duration": 0.394067,
     "end_time": "2023-07-17T07:30:06.504633",
     "exception": false,
     "start_time": "2023-07-17T07:30:06.110566",
     "status": "completed"
    },
    "tags": []
   },
   "outputs": [
    {
     "name": "stdout",
     "output_type": "stream",
     "text": [
      "Attendance file created successfully.\n"
     ]
    }
   ],
   "source": [
    "# Sample attendance data\n",
    "attendance_data = [\n",
    "#     {\"Name\": \"\", \"Status\": \"\"}\n",
    "#     {\"Name\": \"Jane\", \"Time\": datetime.now().strftime(\"%Y-%m-%d %H:%M:%S\")},\n",
    "#     {\"Name\": \"Mike\", \"Time\": datetime.now().strftime(\"%Y-%m-%d %H:%M:%S\")},\n",
    "#     {\"Name\": \"Emily\", \"Time\": datetime.now().strftime(\"%Y-%m-%d %H:%M:%S\")},\n",
    "#     {\"Name\": \"Alex\", \"Time\": datetime.now().strftime(\"%Y-%m-%d %H:%M:%S\")}\n",
    "]\n",
    "\n",
    "# Define the output file path\n",
    "output_file = \"attendance.csv\"\n",
    "\n",
    "# Define the field names for the CSV file\n",
    "field_names = [\"Name\", \"Status\"]\n",
    "\n",
    "# Write attendance data to CSV file\n",
    "with open(output_file, mode='w', newline='') as file:\n",
    "    writer = csv.DictWriter(file, fieldnames=field_names)\n",
    "\n",
    "    # Write the header\n",
    "    writer.writeheader()\n",
    "\n",
    "    # Write the attendance data\n",
    "    writer.writerows(attendance_data)\n",
    "\n",
    "print(\"Attendance file created successfully.\")"
   ]
  },
  {
   "cell_type": "code",
   "execution_count": 29,
   "id": "b59939a9",
   "metadata": {
    "execution": {
     "iopub.execute_input": "2023-07-17T07:30:07.309702Z",
     "iopub.status.busy": "2023-07-17T07:30:07.308815Z",
     "iopub.status.idle": "2023-07-17T07:30:07.574040Z",
     "shell.execute_reply": "2023-07-17T07:30:07.574526Z",
     "shell.execute_reply.started": "2023-07-15T05:57:08.126903Z"
    },
    "papermill": {
     "duration": 0.660779,
     "end_time": "2023-07-17T07:30:07.574700",
     "exception": false,
     "start_time": "2023-07-17T07:30:06.913921",
     "status": "completed"
    },
    "tags": []
   },
   "outputs": [
    {
     "name": "stdout",
     "output_type": "stream",
     "text": [
      "Tensor(\"add:0\", shape=(None, 16000, 1), dtype=float32)\n",
      "Speaker:\u001b[92m 2\u001b[0m\tPredicted:\u001b[92m 2\u001b[0m\n",
      "Speaker Predicted: Magaret_Tarcher\n",
      "Magaret_Tarcher\n"
     ]
    }
   ],
   "source": [
    "path = [\"/kaggle/input/speaker-recognition-dataset/16000_pcm_speeches/Magaret_Tarcher/1000.wav\"]\n",
    "labels = [\"unknown\"]\n",
    "predicted_speaker = \"\"\n",
    "try:\n",
    "    predicted_speaker = predict(path, labels)\n",
    "    print(predicted_speaker)\n",
    "except:\n",
    "    print(\"Error! Check if the file correctly passed or not!\")"
   ]
  },
  {
   "cell_type": "code",
   "execution_count": 30,
   "id": "b52977c9",
   "metadata": {
    "execution": {
     "iopub.execute_input": "2023-07-17T07:30:08.333936Z",
     "iopub.status.busy": "2023-07-17T07:30:08.333284Z",
     "iopub.status.idle": "2023-07-17T07:30:08.338174Z",
     "shell.execute_reply": "2023-07-17T07:30:08.337560Z",
     "shell.execute_reply.started": "2023-07-15T05:57:08.426667Z"
    },
    "papermill": {
     "duration": 0.389695,
     "end_time": "2023-07-17T07:30:08.338308",
     "exception": false,
     "start_time": "2023-07-17T07:30:07.948613",
     "status": "completed"
    },
    "tags": []
   },
   "outputs": [
    {
     "name": "stdout",
     "output_type": "stream",
     "text": [
      "Magaret_Tarcher\n"
     ]
    }
   ],
   "source": [
    "print(predicted_speaker)"
   ]
  },
  {
   "cell_type": "code",
   "execution_count": 31,
   "id": "f378ce5f",
   "metadata": {
    "execution": {
     "iopub.execute_input": "2023-07-17T07:30:09.156413Z",
     "iopub.status.busy": "2023-07-17T07:30:09.155483Z",
     "iopub.status.idle": "2023-07-17T07:30:09.157449Z",
     "shell.execute_reply": "2023-07-17T07:30:09.157968Z",
     "shell.execute_reply.started": "2023-07-15T05:57:08.434311Z"
    },
    "papermill": {
     "duration": 0.44297,
     "end_time": "2023-07-17T07:30:09.158114",
     "exception": false,
     "start_time": "2023-07-17T07:30:08.715144",
     "status": "completed"
    },
    "tags": []
   },
   "outputs": [],
   "source": [
    "def write_to_csv(file_path, predicted_speaker):\n",
    "    # Get the current timestamp\n",
    "#     current_time = datetime.now().strftime(\"%Y-%m-%d %H:%M:%S\")\n",
    "    present=\"present\"\n",
    "\n",
    "    # Create a row with the predicted speaker and their status\n",
    "    row = [predicted_speaker,present]\n",
    "\n",
    "    # Write the row to the CSV file\n",
    "    with open(file_path, 'a', newline='') as file:\n",
    "        writer = csv.writer(file)\n",
    "        writer.writerow(row)"
   ]
  },
  {
   "cell_type": "code",
   "execution_count": 32,
   "id": "b28d6618",
   "metadata": {
    "execution": {
     "iopub.execute_input": "2023-07-17T07:30:09.920991Z",
     "iopub.status.busy": "2023-07-17T07:30:09.920129Z",
     "iopub.status.idle": "2023-07-17T07:30:09.922848Z",
     "shell.execute_reply": "2023-07-17T07:30:09.922347Z",
     "shell.execute_reply.started": "2023-07-15T05:57:08.447339Z"
    },
    "papermill": {
     "duration": 0.386463,
     "end_time": "2023-07-17T07:30:09.922971",
     "exception": false,
     "start_time": "2023-07-17T07:30:09.536508",
     "status": "completed"
    },
    "tags": []
   },
   "outputs": [],
   "source": [
    "# Path to the CSV file\n",
    "csv_file = '/kaggle/working/attendance.csv'"
   ]
  },
  {
   "cell_type": "code",
   "execution_count": 33,
   "id": "75ed33a5",
   "metadata": {
    "execution": {
     "iopub.execute_input": "2023-07-17T07:30:10.682883Z",
     "iopub.status.busy": "2023-07-17T07:30:10.681966Z",
     "iopub.status.idle": "2023-07-17T07:30:10.685148Z",
     "shell.execute_reply": "2023-07-17T07:30:10.685752Z",
     "shell.execute_reply.started": "2023-07-15T05:57:08.458955Z"
    },
    "papermill": {
     "duration": 0.38494,
     "end_time": "2023-07-17T07:30:10.685905",
     "exception": false,
     "start_time": "2023-07-17T07:30:10.300965",
     "status": "completed"
    },
    "tags": []
   },
   "outputs": [
    {
     "name": "stdout",
     "output_type": "stream",
     "text": [
      "Entry added to the CSV file.\n"
     ]
    }
   ],
   "source": [
    "# Write the predicted speaker and timestamp to the CSV file\n",
    "write_to_csv(csv_file, predicted_speaker)\n",
    "print(\"Entry added to the CSV file.\")"
   ]
  }
 ],
 "metadata": {
  "kernelspec": {
   "display_name": "Python 3",
   "language": "python",
   "name": "python3"
  },
  "language_info": {
   "codemirror_mode": {
    "name": "ipython",
    "version": 3
   },
   "file_extension": ".py",
   "mimetype": "text/x-python",
   "name": "python",
   "nbconvert_exporter": "python",
   "pygments_lexer": "ipython3",
   "version": "3.7.12"
  },
  "papermill": {
   "default_parameters": {},
   "duration": 1231.151032,
   "end_time": "2023-07-17T07:30:14.064091",
   "environment_variables": {},
   "exception": null,
   "input_path": "__notebook__.ipynb",
   "output_path": "__notebook__.ipynb",
   "parameters": {},
   "start_time": "2023-07-17T07:09:42.913059",
   "version": "2.3.3"
  }
 },
 "nbformat": 4,
 "nbformat_minor": 5
}
